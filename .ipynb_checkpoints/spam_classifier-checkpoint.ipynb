{
 "cells": [
  {
   "cell_type": "code",
   "execution_count": 22,
   "id": "9ff48110",
   "metadata": {},
   "outputs": [],
   "source": [
    "import numpy as np\n",
    "import pandas as pd\n",
    "import matplotlib.pyplot as plt\n",
    "import seaborn as sns\n",
    "from sklearn.preprocessing import StandardScaler\n",
    "from sklearn.model_selection import train_test_split\n",
    "from sklearn.model_selection import validation_curve\n",
    "try:\n",
    "    from sklearn.utils.testing import ignore_warnings\n",
    "except ModuleNotFoundError:\n",
    "    from sklearn.utils._testing import ignore_warnings\n",
    "from sklearn.exceptions import ConvergenceWarning\n",
    "from sklearn.ensemble import RandomForestClassifier\n",
    "from sklearn.linear_model import LogisticRegression\n",
    "from sklearn.neighbors import KNeighborsClassifier\n",
    "from sklearn.svm import SVC\n",
    "from sklearn.decomposition import PCA as RandomizedPCA\n",
    "from sklearn.pipeline import make_pipeline\n",
    "from sklearn.model_selection import GridSearchCV\n",
    "from sklearn.metrics import classification_report"
   ]
  },
  {
   "cell_type": "code",
   "execution_count": 3,
   "id": "4f9da777",
   "metadata": {},
   "outputs": [
    {
     "data": {
      "text/html": [
       "<div>\n",
       "<style scoped>\n",
       "    .dataframe tbody tr th:only-of-type {\n",
       "        vertical-align: middle;\n",
       "    }\n",
       "\n",
       "    .dataframe tbody tr th {\n",
       "        vertical-align: top;\n",
       "    }\n",
       "\n",
       "    .dataframe thead th {\n",
       "        text-align: right;\n",
       "    }\n",
       "</style>\n",
       "<table border=\"1\" class=\"dataframe\">\n",
       "  <thead>\n",
       "    <tr style=\"text-align: right;\">\n",
       "      <th></th>\n",
       "      <th>word_freq_make</th>\n",
       "      <th>word_freq_address</th>\n",
       "      <th>word_freq_all</th>\n",
       "      <th>word_freq_3d</th>\n",
       "      <th>word_freq_our</th>\n",
       "      <th>word_freq_over</th>\n",
       "      <th>word_freq_remove</th>\n",
       "      <th>word_freq_internet</th>\n",
       "      <th>word_freq_order</th>\n",
       "      <th>word_freq_mail</th>\n",
       "      <th>...</th>\n",
       "      <th>char_freq_;</th>\n",
       "      <th>char_freq_(</th>\n",
       "      <th>char_freq_[</th>\n",
       "      <th>char_freq_!</th>\n",
       "      <th>char_freq_$</th>\n",
       "      <th>char_freq_#</th>\n",
       "      <th>capital_run_length_average</th>\n",
       "      <th>capital_run_length_longest</th>\n",
       "      <th>capital_run_length_total</th>\n",
       "      <th>spam</th>\n",
       "    </tr>\n",
       "  </thead>\n",
       "  <tbody>\n",
       "    <tr>\n",
       "      <th>0</th>\n",
       "      <td>0.00</td>\n",
       "      <td>0.64</td>\n",
       "      <td>0.64</td>\n",
       "      <td>0.0</td>\n",
       "      <td>0.32</td>\n",
       "      <td>0.00</td>\n",
       "      <td>0.00</td>\n",
       "      <td>0.00</td>\n",
       "      <td>0.00</td>\n",
       "      <td>0.00</td>\n",
       "      <td>...</td>\n",
       "      <td>0.00</td>\n",
       "      <td>0.000</td>\n",
       "      <td>0.0</td>\n",
       "      <td>0.778</td>\n",
       "      <td>0.000</td>\n",
       "      <td>0.000</td>\n",
       "      <td>3.756</td>\n",
       "      <td>61</td>\n",
       "      <td>278</td>\n",
       "      <td>1</td>\n",
       "    </tr>\n",
       "    <tr>\n",
       "      <th>1</th>\n",
       "      <td>0.21</td>\n",
       "      <td>0.28</td>\n",
       "      <td>0.50</td>\n",
       "      <td>0.0</td>\n",
       "      <td>0.14</td>\n",
       "      <td>0.28</td>\n",
       "      <td>0.21</td>\n",
       "      <td>0.07</td>\n",
       "      <td>0.00</td>\n",
       "      <td>0.94</td>\n",
       "      <td>...</td>\n",
       "      <td>0.00</td>\n",
       "      <td>0.132</td>\n",
       "      <td>0.0</td>\n",
       "      <td>0.372</td>\n",
       "      <td>0.180</td>\n",
       "      <td>0.048</td>\n",
       "      <td>5.114</td>\n",
       "      <td>101</td>\n",
       "      <td>1028</td>\n",
       "      <td>1</td>\n",
       "    </tr>\n",
       "    <tr>\n",
       "      <th>2</th>\n",
       "      <td>0.06</td>\n",
       "      <td>0.00</td>\n",
       "      <td>0.71</td>\n",
       "      <td>0.0</td>\n",
       "      <td>1.23</td>\n",
       "      <td>0.19</td>\n",
       "      <td>0.19</td>\n",
       "      <td>0.12</td>\n",
       "      <td>0.64</td>\n",
       "      <td>0.25</td>\n",
       "      <td>...</td>\n",
       "      <td>0.01</td>\n",
       "      <td>0.143</td>\n",
       "      <td>0.0</td>\n",
       "      <td>0.276</td>\n",
       "      <td>0.184</td>\n",
       "      <td>0.010</td>\n",
       "      <td>9.821</td>\n",
       "      <td>485</td>\n",
       "      <td>2259</td>\n",
       "      <td>1</td>\n",
       "    </tr>\n",
       "    <tr>\n",
       "      <th>3</th>\n",
       "      <td>0.00</td>\n",
       "      <td>0.00</td>\n",
       "      <td>0.00</td>\n",
       "      <td>0.0</td>\n",
       "      <td>0.63</td>\n",
       "      <td>0.00</td>\n",
       "      <td>0.31</td>\n",
       "      <td>0.63</td>\n",
       "      <td>0.31</td>\n",
       "      <td>0.63</td>\n",
       "      <td>...</td>\n",
       "      <td>0.00</td>\n",
       "      <td>0.137</td>\n",
       "      <td>0.0</td>\n",
       "      <td>0.137</td>\n",
       "      <td>0.000</td>\n",
       "      <td>0.000</td>\n",
       "      <td>3.537</td>\n",
       "      <td>40</td>\n",
       "      <td>191</td>\n",
       "      <td>1</td>\n",
       "    </tr>\n",
       "    <tr>\n",
       "      <th>4</th>\n",
       "      <td>0.00</td>\n",
       "      <td>0.00</td>\n",
       "      <td>0.00</td>\n",
       "      <td>0.0</td>\n",
       "      <td>0.63</td>\n",
       "      <td>0.00</td>\n",
       "      <td>0.31</td>\n",
       "      <td>0.63</td>\n",
       "      <td>0.31</td>\n",
       "      <td>0.63</td>\n",
       "      <td>...</td>\n",
       "      <td>0.00</td>\n",
       "      <td>0.135</td>\n",
       "      <td>0.0</td>\n",
       "      <td>0.135</td>\n",
       "      <td>0.000</td>\n",
       "      <td>0.000</td>\n",
       "      <td>3.537</td>\n",
       "      <td>40</td>\n",
       "      <td>191</td>\n",
       "      <td>1</td>\n",
       "    </tr>\n",
       "  </tbody>\n",
       "</table>\n",
       "<p>5 rows × 58 columns</p>\n",
       "</div>"
      ],
      "text/plain": [
       "   word_freq_make  word_freq_address  word_freq_all  word_freq_3d  \\\n",
       "0            0.00               0.64           0.64           0.0   \n",
       "1            0.21               0.28           0.50           0.0   \n",
       "2            0.06               0.00           0.71           0.0   \n",
       "3            0.00               0.00           0.00           0.0   \n",
       "4            0.00               0.00           0.00           0.0   \n",
       "\n",
       "   word_freq_our  word_freq_over  word_freq_remove  word_freq_internet  \\\n",
       "0           0.32            0.00              0.00                0.00   \n",
       "1           0.14            0.28              0.21                0.07   \n",
       "2           1.23            0.19              0.19                0.12   \n",
       "3           0.63            0.00              0.31                0.63   \n",
       "4           0.63            0.00              0.31                0.63   \n",
       "\n",
       "   word_freq_order  word_freq_mail  ...  char_freq_;  char_freq_(  \\\n",
       "0             0.00            0.00  ...         0.00        0.000   \n",
       "1             0.00            0.94  ...         0.00        0.132   \n",
       "2             0.64            0.25  ...         0.01        0.143   \n",
       "3             0.31            0.63  ...         0.00        0.137   \n",
       "4             0.31            0.63  ...         0.00        0.135   \n",
       "\n",
       "   char_freq_[  char_freq_!  char_freq_$  char_freq_#  \\\n",
       "0          0.0        0.778        0.000        0.000   \n",
       "1          0.0        0.372        0.180        0.048   \n",
       "2          0.0        0.276        0.184        0.010   \n",
       "3          0.0        0.137        0.000        0.000   \n",
       "4          0.0        0.135        0.000        0.000   \n",
       "\n",
       "   capital_run_length_average  capital_run_length_longest  \\\n",
       "0                       3.756                          61   \n",
       "1                       5.114                         101   \n",
       "2                       9.821                         485   \n",
       "3                       3.537                          40   \n",
       "4                       3.537                          40   \n",
       "\n",
       "   capital_run_length_total  spam  \n",
       "0                       278     1  \n",
       "1                      1028     1  \n",
       "2                      2259     1  \n",
       "3                       191     1  \n",
       "4                       191     1  \n",
       "\n",
       "[5 rows x 58 columns]"
      ]
     },
     "execution_count": 3,
     "metadata": {},
     "output_type": "execute_result"
    }
   ],
   "source": [
    "### LOAD THE DATA\n",
    "data = pd.read_csv('spambase/spambase.csv')\n",
    "data.head()"
   ]
  },
  {
   "cell_type": "code",
   "execution_count": 4,
   "id": "96274edb",
   "metadata": {},
   "outputs": [],
   "source": [
    "### DATA CLEANING\n",
    "# check for NaN/None/string cells (if any exist throw an error)\n",
    "for index, row in data.iterrows():\n",
    "    for val in row.values:\n",
    "        # check if value is NaN or None\n",
    "        if pd.isnull(val):\n",
    "            raise Exception('NaN/None value')\n",
    "        # check if value is not number\n",
    "        try:\n",
    "            float(val)\n",
    "        except:\n",
    "            raise Exception('Non number value')"
   ]
  },
  {
   "cell_type": "code",
   "execution_count": 5,
   "id": "f3253e58",
   "metadata": {},
   "outputs": [
    {
     "name": "stdout",
     "output_type": "stream",
     "text": [
      "(3220, 57)\n",
      "(3220,)\n",
      "(1381, 57)\n",
      "(1381,)\n",
      "(3220, 57)\n",
      "(3220,)\n",
      "(1381, 57)\n",
      "(1381,)\n"
     ]
    }
   ],
   "source": [
    "### SPLIT DATA INTO TRAINING/TESTING DATA\n",
    "# first, extract x/y values from dataframe\n",
    "X = []\n",
    "for (col_name, col_data) in data.iteritems():\n",
    "    if col_name != 'spam':\n",
    "        X.append(col_data)\n",
    "X = np.array(X).T\n",
    "Y = np.array(data['spam'])\n",
    "\n",
    "# split raw data\n",
    "X_train, X_test, Y_train, Y_test = train_test_split(X, Y, train_size=.7)\n",
    "print(X_train.shape)\n",
    "print(Y_train.shape)\n",
    "print(X_test.shape)\n",
    "print(Y_test.shape)\n",
    "\n",
    "# do the same for scaled data\n",
    "scaler = StandardScaler()\n",
    "X_scaled = scaler.fit_transform(X)\n",
    "X_scaled_train, X_scaled_test, Y_scaled_train, Y_scaled_test = train_test_split(X, Y, train_size=.7)\n",
    "print(X_scaled_train.shape)\n",
    "print(Y_scaled_train.shape)\n",
    "print(X_scaled_test.shape)\n",
    "print(Y_scaled_test.shape)"
   ]
  },
  {
   "cell_type": "code",
   "execution_count": 26,
   "id": "4d155aea",
   "metadata": {},
   "outputs": [],
   "source": [
    "### FIND IMPORTANT COLUMNS\n",
    "clf = RandomForestClassifier()\n",
    "clf.fit(X_train, Y_train)\n",
    "feature_imp = pd.Series(clf.feature_importances_,index=[col for col in data.columns if col != 'spam']).sort_values(ascending=False)"
   ]
  },
  {
   "cell_type": "code",
   "execution_count": 27,
   "id": "307fd8f7",
   "metadata": {},
   "outputs": [
    {
     "data": {
      "image/png": "[encoded data removed]",
      "text/plain": [
       "<Figure size 640x800 with 1 Axes>"
      ]
     },
     "metadata": {
      "needs_background": "light"
     },
     "output_type": "display_data"
    }
   ],
   "source": [
    "# visualize importances with bargraph\n",
    "plt.figure(figsize=(8,10), dpi=80)\n",
    "sns.barplot(x=feature_imp, y=feature_imp.index)\n",
    "plt.xlabel('Feature Importance Score')\n",
    "plt.ylabel('Features')\n",
    "plt.title('Feature Importance Visual')\n",
    "plt.show()"
   ]
  },
  {
   "cell_type": "markdown",
   "id": "1cda6b34",
   "metadata": {},
   "source": [
    "From the graph above, we estimate that anything with an importance score >= 0.1 is POGGERS in our classification task."
   ]
  },
  {
   "cell_type": "code",
   "execution_count": 10,
   "id": "faadb905",
   "metadata": {},
   "outputs": [],
   "source": [
    "# helper function for getting validation curve info, use ignore_warnings to suppress warnings about\n",
    "# convergence errors, since we end up passing some values that will not converge.\n",
    "@ignore_warnings(category=ConvergenceWarning)\n",
    "def test_params(clf, x, y, param, rng):\n",
    "    return validation_curve(clf, x, y, param_name=param, param_range=rng)"
   ]
  },
  {
   "cell_type": "markdown",
   "id": "c40e5b13",
   "metadata": {},
   "source": [
    "<h3>Logistic Regression</h3>\n",
    "\n",
    "We must use the scaled data here, otherwise we get max_iter related errors and the model will never converge"
   ]
  },
  {
   "cell_type": "code",
   "execution_count": 11,
   "id": "0b20a06c",
   "metadata": {},
   "outputs": [
    {
     "data": {
      "image/png": "[encoded data removed]",
      "text/plain": [
       "<Figure size 432x288 with 1 Axes>"
      ]
     },
     "metadata": {
      "needs_background": "light"
     },
     "output_type": "display_data"
    },
    {
     "name": "stdout",
     "output_type": "stream",
     "text": [
      "Maximal Cross Validation Score: 0.9177018633540373\n",
      "Maximal max_iter Value: 710.5263157894736\n"
     ]
    }
   ],
   "source": [
    "# find optimal max_iter parameter using validation curve\n",
    "param_range = np.linspace(100, 3000, 20)\n",
    "\n",
    "train_scores, valid_scores = test_params(LogisticRegression(), X_scaled_train, Y_scaled_train, \n",
    "                                         'max_iter', param_range)\n",
    "\n",
    "train_score_means = np.mean(train_scores, axis=1)\n",
    "valid_score_means = np.mean(valid_scores, axis=1)\n",
    "\n",
    "plt.title('Optimize max_iter')\n",
    "plt.xlabel('max_iter values')\n",
    "plt.ylabel('accuracy')\n",
    "plt.plot(param_range, train_score_means, color='red', label='Training Score')\n",
    "plt.plot(param_range, valid_score_means, color='blue', label='Cross Validation Score')\n",
    "\n",
    "plt.legend()\n",
    "plt.show()\n",
    "\n",
    "curr_max = float('-inf')\n",
    "max_val = -1\n",
    "for i in range(len(param_range)):\n",
    "    if valid_score_means[i] > curr_max:\n",
    "        curr_max = valid_score_means[i]\n",
    "        max_val = param_range[i]\n",
    "print('Maximal Cross Validation Score:', curr_max)\n",
    "print('Maximal max_iter Value:', max_val)"
   ]
  },
  {
   "cell_type": "markdown",
   "id": "77333ae2",
   "metadata": {},
   "source": [
    "As we can see from this graph, the Training Score and Cross Validation Score become stable at around 2000, so we will use that value to keep from needing too many pointless iterations. This will keep the speed of training as fast as possible while still reaching an optimal solution."
   ]
  },
  {
   "cell_type": "code",
   "execution_count": 12,
   "id": "a00e9733",
   "metadata": {},
   "outputs": [
    {
     "data": {
      "image/png": "[encoded data removed]",
      "text/plain": [
       "<Figure size 432x288 with 1 Axes>"
      ]
     },
     "metadata": {
      "needs_background": "light"
     },
     "output_type": "display_data"
    },
    {
     "name": "stdout",
     "output_type": "stream",
     "text": [
      "Maximal Cross Validation Score: 0.9173913043478261\n",
      "Maximal tol Value: 1e-05\n"
     ]
    }
   ],
   "source": [
    "# find optimal tol parameter using validation curve\n",
    "param_range = np.linspace(.00001, .1, 10)\n",
    "\n",
    "train_scores, valid_scores = test_params(LogisticRegression(max_iter=1350), X_scaled_train, Y_scaled_train, \n",
    "                                         'tol', param_range)\n",
    "\n",
    "train_score_means = np.mean(train_scores, axis=1)\n",
    "valid_score_means = np.mean(valid_scores, axis=1)\n",
    "\n",
    "plt.title('Optimize tol')\n",
    "plt.xlabel('tol values')\n",
    "plt.ylabel('accuracy')\n",
    "plt.plot(param_range, train_score_means, color='red', label='Training Score')\n",
    "plt.plot(param_range, valid_score_means, color='blue', label='Cross Validation Score')\n",
    "\n",
    "plt.legend()\n",
    "plt.show()\n",
    "\n",
    "curr_max = float('-inf')\n",
    "max_val = -1\n",
    "for i in range(len(param_range)):\n",
    "    if valid_score_means[i] > curr_max:\n",
    "        curr_max = valid_score_means[i]\n",
    "        max_val = param_range[i]\n",
    "print('Maximal Cross Validation Score:', curr_max)\n",
    "print('Maximal tol Value:', max_val)"
   ]
  },
  {
   "cell_type": "markdown",
   "id": "9cc93cdf",
   "metadata": {},
   "source": [
    "There does not appear to be any changes in the training based on this variable, which means that it is always going to max_iter iterations. Thus, we will use the value 0.01."
   ]
  },
  {
   "cell_type": "code",
   "execution_count": 21,
   "id": "30293ca9",
   "metadata": {},
   "outputs": [
    {
     "name": "stdout",
     "output_type": "stream",
     "text": [
      "              precision    recall  f1-score   support\n",
      "\n",
      "           0     0.9280    0.9347    0.9313       827\n",
      "           1     0.9015    0.8917    0.8966       554\n",
      "\n",
      "    accuracy                         0.9175      1381\n",
      "   macro avg     0.9147    0.9132    0.9139      1381\n",
      "weighted avg     0.9173    0.9175    0.9174      1381\n",
      "\n"
     ]
    }
   ],
   "source": [
    "# initialize the model using max_iter=1350 and tol=.01, fit the model, get results.\n",
    "log_reg = LogisticRegression(max_iter=2000, tol=.01)\n",
    "log_reg.fit(X_scaled_train, Y_scaled_train)\n",
    "log_reg_predictions = log_reg.predict(X_scaled_test)\n",
    "print(classification_report(Y_scaled_test, log_reg_predictions, digits=4))"
   ]
  },
  {
   "cell_type": "markdown",
   "id": "79eb3548",
   "metadata": {},
   "source": [
    "The f1-score of the optimal logistic regression model is 0.9174."
   ]
  },
  {
   "cell_type": "markdown",
   "id": "64a8b43d",
   "metadata": {},
   "source": [
    "<h3>K Nearest Neighbors</h3>"
   ]
  },
  {
   "cell_type": "code",
   "execution_count": 30,
   "id": "7970bad0",
   "metadata": {},
   "outputs": [
    {
     "data": {
      "image/png": "[encoded data removed]",
      "text/plain": [
       "<Figure size 432x288 with 1 Axes>"
      ]
     },
     "metadata": {
      "needs_background": "light"
     },
     "output_type": "display_data"
    }
   ],
   "source": [
    "# find optimal n_neighbors and p parameters\n",
    "neighbors_range = [1, 3, 5, 7, 9]\n",
    "p_range = [1, 2]\n",
    "plt.title('Optimize n_neighbors and p')\n",
    "plt.xlabel('n_neighbors')\n",
    "plt.ylabel('accuracy')\n",
    "train_scores, valid_scores = test_params(KNeighborsClassifier(p=p_range[0]), X_train, Y_train, \n",
    "                                         'n_neighbors', neighbors_range)\n",
    "\n",
    "train_score_means = np.mean(train_scores, axis=1)\n",
    "valid_score_means = np.mean(valid_scores, axis=1)\n",
    "\n",
    "plt.plot(neighbors_range, train_score_means, color='#FFC0CB', label='Training Score (p=1)')\n",
    "plt.plot(neighbors_range, valid_score_means, color='r', label='Cross Validation Score (p=1)')\n",
    "\n",
    "train_scores, valid_scores = test_params(KNeighborsClassifier(p=p_range[1]), X_train, Y_train, \n",
    "                                         'n_neighbors', neighbors_range)\n",
    "\n",
    "train_score_means = np.mean(train_scores, axis=1)\n",
    "valid_score_means = np.mean(valid_scores, axis=1)\n",
    "\n",
    "plt.plot(neighbors_range, train_score_means, color='c', label='Training Score (p=2)')\n",
    "plt.plot(neighbors_range, valid_score_means, color='b', label='Cross Validation Score (p=2)')\n",
    "\n",
    "plt.legend()\n",
    "plt.show()"
   ]
  },
  {
   "cell_type": "markdown",
   "id": "72f08327",
   "metadata": {},
   "source": [
    "Based on this visualization, n_neighbors=1 and p=1 are the optimal parameter values"
   ]
  },
  {
   "cell_type": "code",
   "execution_count": 31,
   "id": "5ec90117",
   "metadata": {},
   "outputs": [
    {
     "name": "stdout",
     "output_type": "stream",
     "text": [
      "              precision    recall  f1-score   support\n",
      "\n",
      "           0     0.8747    0.8575    0.8660       863\n",
      "           1     0.7701    0.7954    0.7825       518\n",
      "\n",
      "    accuracy                         0.8342      1381\n",
      "   macro avg     0.8224    0.8264    0.8243      1381\n",
      "weighted avg     0.8355    0.8342    0.8347      1381\n",
      "\n"
     ]
    }
   ],
   "source": [
    "# initialize the model using n_neighbors=1 and p=1, fit the model, get results.\n",
    "kneighbors = KNeighborsClassifier(n_neighbors=1, p=1)\n",
    "kneighbors.fit(X_train, Y_train)\n",
    "kneighbors_predictions = kneighbors.predict(X_test)\n",
    "print(classification_report(Y_test, kneighbors_predictions, digits=4))"
   ]
  },
  {
   "cell_type": "markdown",
   "id": "180abc03",
   "metadata": {},
   "source": [
    "The f1-score for the optimal kneighbors classifier is 0.8347."
   ]
  },
  {
   "cell_type": "markdown",
   "id": "3b81038c",
   "metadata": {},
   "source": [
    "<h3>Support Vector Machine</h3>"
   ]
  },
  {
   "cell_type": "code",
   "execution_count": 18,
   "id": "80a350fb",
   "metadata": {},
   "outputs": [
    {
     "name": "stdout",
     "output_type": "stream",
     "text": [
      "              precision    recall  f1-score   support\n",
      "\n",
      "           0     0.9414    0.9571    0.9492       839\n",
      "           1     0.9318    0.9077    0.9196       542\n",
      "\n",
      "    accuracy                         0.9377      1381\n",
      "   macro avg     0.9366    0.9324    0.9344      1381\n",
      "weighted avg     0.9376    0.9377    0.9376      1381\n",
      "\n"
     ]
    }
   ],
   "source": [
    "### SUPPORT VECTOR MACHINE IMPLEMENTATION\n",
    "# plt.figure(figsize=(200, 50), dpi=50)\n",
    "# plt.scatter(X[:, 0], X[:, 1], c=Y, s=30, cmap='autumn');\n",
    "\n",
    "pca = RandomizedPCA(n_components=57, whiten=True, random_state=42)\n",
    "svc = SVC(kernel='rbf', class_weight='balanced')\n",
    "model = make_pipeline(pca, svc)\n",
    "param_grid = {'svc__C': [1, 5, 10, 50],\n",
    "              'svc__gamma': [0.0001, 0.0005, 0.001, 0.005]}\n",
    "grid = GridSearchCV(model, param_grid)\n",
    "model = grid.fit(X_train, Y_train)\n",
    "Y_pred = model.predict(X_test)\n",
    "print(classification_report(Y_test, Y_pred, digits = 4))"
   ]
  },
  {
   "cell_type": "markdown",
   "id": "a9795e97",
   "metadata": {},
   "source": [
    "<h3>Random Forest</h3>"
   ]
  },
  {
   "cell_type": "code",
   "execution_count": 10,
   "id": "45e25536",
   "metadata": {},
   "outputs": [],
   "source": [
    "### RANDOM FOREST (one forest, many trees :)) IMPLEMENTATION"
   ]
  },
  {
   "cell_type": "code",
   "execution_count": null,
   "id": "345f0af8",
   "metadata": {},
   "outputs": [],
   "source": []
  }
 ],
 "metadata": {
  "kernelspec": {
   "display_name": "Python 3",
   "language": "python",
   "name": "python3"
  },
  "language_info": {
   "codemirror_mode": {
    "name": "ipython",
    "version": 3
   },
   "file_extension": ".py",
   "mimetype": "text/x-python",
   "name": "python",
   "nbconvert_exporter": "python",
   "pygments_lexer": "ipython3",
   "version": "3.8.8"
  }
 },
 "nbformat": 4,
 "nbformat_minor": 5
}
